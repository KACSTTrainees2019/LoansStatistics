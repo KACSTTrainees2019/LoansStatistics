{
  "nbformat": 4,
  "nbformat_minor": 0,
  "metadata": {
    "colab": {
      "name": "convert csv to json.ipynb",
      "version": "0.3.2",
      "provenance": [],
      "collapsed_sections": [
        "py3mkUkNh9p6"
      ]
    },
    "kernelspec": {
      "name": "python3",
      "display_name": "Python 3"
    },
    "accelerator": "GPU"
  },
  "cells": [
    {
      "cell_type": "markdown",
      "metadata": {
        "id": "py3mkUkNh9p6",
        "colab_type": "text"
      },
      "source": [
        "# Setup"
      ]
    },
    {
      "cell_type": "code",
      "metadata": {
        "id": "ErpI2wo3stDR",
        "colab_type": "code",
        "colab": {}
      },
      "source": [
        "import csv\n",
        "import json"
      ],
      "execution_count": 0,
      "outputs": []
    },
    {
      "cell_type": "markdown",
      "metadata": {
        "id": "zhmIWVtmiBoY",
        "colab_type": "text"
      },
      "source": [
        "# open csv file and produce json string"
      ]
    },
    {
      "cell_type": "code",
      "metadata": {
        "id": "3Gosfzrj4PH_",
        "colab_type": "code",
        "colab": {}
      },
      "source": [
        "def csv_to_json_string(csv_file_path: str):\n",
        "    \"\"\"\n",
        "    Description:\n",
        "      produce a json string from a CSV file.\n",
        "      The first line of the CSV file must be The fields of the data.\n",
        "      All the CSV file's fields will be included in json string.\n",
        "    ________________________________________\n",
        "    parameters:\n",
        "        - csv_file_path: The path of the CSV file  to be converted,\n",
        "        as a string.\n",
        "    _________________________________________\n",
        "    Return:\n",
        "      json string\n",
        "    \"\"\"\n",
        "    \n",
        "    # open csv file, with 1st line of file as a field names\n",
        "    with open(csv_file_path, newline=\"\") as csv_file:\n",
        "        records_list = []\n",
        "        record = {}\n",
        "        # make an object to read the records row by row\n",
        "        reader = csv.DictReader(csv_file)\n",
        "        labels = reader.fieldnames\n",
        "        for row in reader:\n",
        "            for label in labels:\n",
        "                record[label] = row[label]\n",
        "            records_list.append(record)\n",
        "\n",
        "    # Parse the CSV into JSON string\n",
        "    return json.dumps(records_list, sort_keys=True, indent=4)"
      ],
      "execution_count": 0,
      "outputs": []
    },
    {
      "cell_type": "markdown",
      "metadata": {
        "id": "ZiZyXSSWLEPO",
        "colab_type": "text"
      },
      "source": [
        "# Save a json string into a file"
      ]
    },
    {
      "cell_type": "code",
      "metadata": {
        "id": "JThmEsNnLEXq",
        "colab_type": "code",
        "colab": {}
      },
      "source": [
        "def save_json_file(json_string: str, json_file_path: str):\n",
        "  \"\"\"\n",
        "    Description:\n",
        "      Save the passed JSON string into a file.\n",
        "    ________________________________________\n",
        "    parameters:\n",
        "        - json_file_path: The path of the produced JSON file, as a string.\n",
        "    \"\"\"\n",
        "  with open(json_file_path, \"w\") as file:\n",
        "    file.write(json_string)"
      ],
      "execution_count": 0,
      "outputs": []
    },
    {
      "cell_type": "markdown",
      "metadata": {
        "id": "2ORHBZeA77WK",
        "colab_type": "text"
      },
      "source": [
        "# Work flow"
      ]
    },
    {
      "cell_type": "code",
      "metadata": {
        "id": "iDZo5gNM8Ejl",
        "colab_type": "code",
        "colab": {}
      },
      "source": [
        "csv_file_path = \"ChosenData.csv\"\n",
        "json_file_path = \"ChosenData.json\"\n",
        "\n",
        "# Produce JSON file\n",
        "json_string = csv_to_json_string(csv_file_path)\n",
        "save_json_file(json_string, json_file_path)"
      ],
      "execution_count": 0,
      "outputs": []
    }
  ]
}