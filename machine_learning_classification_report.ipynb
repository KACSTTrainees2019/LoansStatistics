{
  "nbformat": 4,
  "nbformat_minor": 0,
  "metadata": {
    "colab": {
      "name": "machine learning classification report.ipynb",
      "version": "0.3.2",
      "provenance": [],
      "collapsed_sections": [
        "DopCCMcCyliM",
        "zM1ZnObkOXVS",
        "weCeeqYRZMsw",
        "6ixEDNa_l0Le",
        "6P_r0I5RXcfm",
        "p_6LfdSBXm1Z",
        "SLVLlaAdYovl",
        "X7U-xB69Yy4h",
        "Hym9RUkxfMlp",
        "c3cvgVSKAJPS",
        "pwCHQjonAlf_",
        "xd1SpADdTK67",
        "94yjxE67TTw0"
      ],
      "toc_visible": true
    },
    "kernelspec": {
      "name": "python3",
      "display_name": "Python 3"
    }
  },
  "cells": [
    {
      "cell_type": "markdown",
      "metadata": {
        "id": "NnNXXa9gqRMs",
        "colab_type": "text"
      },
      "source": [
        "**notice: you will need to change the code adapting to your needs.**"
      ]
    },
    {
      "cell_type": "markdown",
      "metadata": {
        "id": "DopCCMcCyliM",
        "colab_type": "text"
      },
      "source": [
        "# Setup"
      ]
    },
    {
      "cell_type": "code",
      "metadata": {
        "id": "83wwVa0Tyook",
        "colab_type": "code",
        "colab": {}
      },
      "source": [
        "# panda library\n",
        "import pandas as pd\n",
        "import numpy as np\n",
        "\n",
        "# Classifier\n",
        "from sklearn.tree import DecisionTreeClassifier\n",
        "\n",
        "# scoring\n",
        "from sklearn.model_selection import train_test_split\n",
        "from sklearn.metrics import classification_report\n",
        "\n",
        "# load a trained model\n",
        "import joblib"
      ],
      "execution_count": 0,
      "outputs": []
    },
    {
      "cell_type": "markdown",
      "metadata": {
        "colab_type": "text",
        "id": "zM1ZnObkOXVS"
      },
      "source": [
        "# open file"
      ]
    },
    {
      "cell_type": "code",
      "metadata": {
        "id": "fj_yyJa3cs3A",
        "colab_type": "code",
        "colab": {}
      },
      "source": [
        "data = pd.read_csv(\"music.csv\")"
      ],
      "execution_count": 0,
      "outputs": []
    },
    {
      "cell_type": "code",
      "metadata": {
        "id": "pJku_y6Ay_zX",
        "colab_type": "code",
        "outputId": "b8afcebb-acee-4e1e-e95a-09aed14cc7ca",
        "colab": {
          "base_uri": "https://localhost:8080/",
          "height": 169
        }
      },
      "source": [
        "data"
      ],
      "execution_count": 0,
      "outputs": [
        {
          "output_type": "error",
          "ename": "NameError",
          "evalue": "ignored",
          "traceback": [
            "\u001b[0;31m---------------------------------------------------------------------------\u001b[0m",
            "\u001b[0;31mNameError\u001b[0m                                 Traceback (most recent call last)",
            "\u001b[0;32m<ipython-input-4-c5d84736ba45>\u001b[0m in \u001b[0;36m<module>\u001b[0;34m()\u001b[0m\n\u001b[0;32m----> 1\u001b[0;31m \u001b[0mdata\u001b[0m\u001b[0;34m\u001b[0m\u001b[0;34m\u001b[0m\u001b[0m\n\u001b[0m",
            "\u001b[0;31mNameError\u001b[0m: name 'data' is not defined"
          ]
        }
      ]
    },
    {
      "cell_type": "markdown",
      "metadata": {
        "id": "weCeeqYRZMsw",
        "colab_type": "text"
      },
      "source": [
        "# load a trained model"
      ]
    },
    {
      "cell_type": "code",
      "metadata": {
        "id": "sSOkLPFvZYHd",
        "colab_type": "code",
        "colab": {}
      },
      "source": [
        "def load_model(file_path):\n",
        "  \"\"\"load an existing model file by passing the path file\n",
        "  \n",
        "  returns: model\"\"\"\n",
        "  return joblib.load(file_path)"
      ],
      "execution_count": 0,
      "outputs": []
    },
    {
      "cell_type": "markdown",
      "metadata": {
        "id": "6ixEDNa_l0Le",
        "colab_type": "text"
      },
      "source": [
        "# Train a model"
      ]
    },
    {
      "cell_type": "markdown",
      "metadata": {
        "id": "6P_r0I5RXcfm",
        "colab_type": "text"
      },
      "source": [
        "## make_dictionary function"
      ]
    },
    {
      "cell_type": "code",
      "metadata": {
        "id": "L4S_Kj_GPW0B",
        "colab_type": "code",
        "colab": {}
      },
      "source": [
        "def make_dictionary(labels):\n",
        "  dir = {}\n",
        "  for label in labels:\n",
        "    dir[label] = data[label]\n",
        "  return dir"
      ],
      "execution_count": 0,
      "outputs": []
    },
    {
      "cell_type": "markdown",
      "metadata": {
        "id": "p_6LfdSBXm1Z",
        "colab_type": "text"
      },
      "source": [
        "## assign feature(input) and target "
      ]
    },
    {
      "cell_type": "code",
      "metadata": {
        "id": "MhiXVD-3AteV",
        "colab_type": "code",
        "outputId": "e1223db7-a93f-4c48-978f-da3bf01ae832",
        "colab": {
          "base_uri": "https://localhost:8080/",
          "height": 345
        }
      },
      "source": [
        "def get_features(labels_list):\n",
        "  return pd.DataFrame(make_dictionary(labels_list))\n",
        "\n",
        "\n",
        "def get_target(labels_list):\n",
        "  return pd.DataFrame(make_dictionary(labels_list))\n",
        "\n",
        "\n",
        "features_labels = [\"gender\", \"age\"]\n",
        "target_labels = [\"genre\"]\n",
        "X = get_features(features_labels)\n",
        "y = get_target(target_labels)"
      ],
      "execution_count": 0,
      "outputs": [
        {
          "output_type": "error",
          "ename": "NameError",
          "evalue": "ignored",
          "traceback": [
            "\u001b[0;31m---------------------------------------------------------------------------\u001b[0m",
            "\u001b[0;31mNameError\u001b[0m                                 Traceback (most recent call last)",
            "\u001b[0;32m<ipython-input-1-d57a0fd69719>\u001b[0m in \u001b[0;36m<module>\u001b[0;34m()\u001b[0m\n\u001b[1;32m      9\u001b[0m \u001b[0mfeatures_labels\u001b[0m \u001b[0;34m=\u001b[0m \u001b[0;34m[\u001b[0m\u001b[0;34m\"gender\"\u001b[0m\u001b[0;34m,\u001b[0m \u001b[0;34m\"age\"\u001b[0m\u001b[0;34m]\u001b[0m\u001b[0;34m\u001b[0m\u001b[0;34m\u001b[0m\u001b[0m\n\u001b[1;32m     10\u001b[0m \u001b[0mtarget_labels\u001b[0m \u001b[0;34m=\u001b[0m \u001b[0;34m[\u001b[0m\u001b[0;34m\"genre\"\u001b[0m\u001b[0;34m]\u001b[0m\u001b[0;34m\u001b[0m\u001b[0;34m\u001b[0m\u001b[0m\n\u001b[0;32m---> 11\u001b[0;31m \u001b[0mX\u001b[0m \u001b[0;34m=\u001b[0m \u001b[0mget_features\u001b[0m\u001b[0;34m(\u001b[0m\u001b[0mfeatures_labels\u001b[0m\u001b[0;34m)\u001b[0m\u001b[0;34m\u001b[0m\u001b[0;34m\u001b[0m\u001b[0m\n\u001b[0m\u001b[1;32m     12\u001b[0m \u001b[0my\u001b[0m \u001b[0;34m=\u001b[0m \u001b[0mget_target\u001b[0m\u001b[0;34m(\u001b[0m\u001b[0mtarget_labels\u001b[0m\u001b[0;34m)\u001b[0m\u001b[0;34m\u001b[0m\u001b[0;34m\u001b[0m\u001b[0m\n",
            "\u001b[0;32m<ipython-input-1-d57a0fd69719>\u001b[0m in \u001b[0;36mget_features\u001b[0;34m(labels_list)\u001b[0m\n\u001b[1;32m      1\u001b[0m \u001b[0;32mdef\u001b[0m \u001b[0mget_features\u001b[0m\u001b[0;34m(\u001b[0m\u001b[0mlabels_list\u001b[0m\u001b[0;34m)\u001b[0m\u001b[0;34m:\u001b[0m\u001b[0;34m\u001b[0m\u001b[0;34m\u001b[0m\u001b[0m\n\u001b[0;32m----> 2\u001b[0;31m   \u001b[0;32mreturn\u001b[0m \u001b[0mpd\u001b[0m\u001b[0;34m.\u001b[0m\u001b[0mDataFrame\u001b[0m\u001b[0;34m(\u001b[0m\u001b[0mmake_dictionary\u001b[0m\u001b[0;34m(\u001b[0m\u001b[0mlabels_list\u001b[0m\u001b[0;34m)\u001b[0m\u001b[0;34m)\u001b[0m\u001b[0;34m\u001b[0m\u001b[0;34m\u001b[0m\u001b[0m\n\u001b[0m\u001b[1;32m      3\u001b[0m \u001b[0;34m\u001b[0m\u001b[0m\n\u001b[1;32m      4\u001b[0m \u001b[0;34m\u001b[0m\u001b[0m\n\u001b[1;32m      5\u001b[0m \u001b[0;32mdef\u001b[0m \u001b[0mget_target\u001b[0m\u001b[0;34m(\u001b[0m\u001b[0mlabels_list\u001b[0m\u001b[0;34m)\u001b[0m\u001b[0;34m:\u001b[0m\u001b[0;34m\u001b[0m\u001b[0;34m\u001b[0m\u001b[0m\n",
            "\u001b[0;31mNameError\u001b[0m: name 'pd' is not defined"
          ]
        }
      ]
    },
    {
      "cell_type": "markdown",
      "metadata": {
        "id": "k2Vwo7ZiXZS2",
        "colab_type": "text"
      },
      "source": [
        "*   \"X\" represent input\n",
        "*   \"y\" represent target"
      ]
    },
    {
      "cell_type": "markdown",
      "metadata": {
        "id": "SLVLlaAdYovl",
        "colab_type": "text"
      },
      "source": [
        "## split"
      ]
    },
    {
      "cell_type": "code",
      "metadata": {
        "id": "Ux7lFj2KcRAk",
        "colab_type": "code",
        "colab": {}
      },
      "source": [
        "X_train, X_test, y_train, y_test = train_test_split(X, y, test_size = 0.2)"
      ],
      "execution_count": 0,
      "outputs": []
    },
    {
      "cell_type": "markdown",
      "metadata": {
        "id": "X7U-xB69Yy4h",
        "colab_type": "text"
      },
      "source": [
        "## train using DecisionTreeClassifier"
      ]
    },
    {
      "cell_type": "code",
      "metadata": {
        "colab_type": "code",
        "id": "Bn2N-VtVcMCI",
        "colab": {}
      },
      "source": [
        "model = DecisionTreeClassifier()\n",
        "model.fit(X_train, y_train)\n",
        "prediction  = model.predict(X_test)"
      ],
      "execution_count": 0,
      "outputs": []
    },
    {
      "cell_type": "markdown",
      "metadata": {
        "colab_type": "text",
        "id": "Hym9RUkxfMlp"
      },
      "source": [
        "# make report"
      ]
    },
    {
      "cell_type": "markdown",
      "metadata": {
        "id": "c3cvgVSKAJPS",
        "colab_type": "text"
      },
      "source": [
        "## preproccess"
      ]
    },
    {
      "cell_type": "markdown",
      "metadata": {
        "id": "uoxVkqh4nvc3",
        "colab_type": "text"
      },
      "source": [
        "- you need to change \"x\" in y[\"x\"].unique() into your target's label"
      ]
    },
    {
      "cell_type": "code",
      "metadata": {
        "id": "NhNAZcGubUWI",
        "colab_type": "code",
        "colab": {}
      },
      "source": [
        "# remove doublicated data and conver into array\n",
        "# eliminate the none exisitng names in test and prediction\n",
        "target_names = [target_name for target_name in y[\"genre\"].unique() if ((target_name in y_test) or (target_name in prediction))]\n",
        "\n",
        "# uniform data types\n",
        "def convert_dataFrame_to_list(data_frame):\n",
        "  return [element[0] for element in data_frame.values.tolist()]\n",
        "\n",
        "\n",
        "y_test = convert_dataFrame_to_list(y_test)"
      ],
      "execution_count": 0,
      "outputs": []
    },
    {
      "cell_type": "code",
      "metadata": {
        "id": "JikCtFusV8Wo",
        "colab_type": "code",
        "outputId": "5540d56b-7185-44bb-825b-847023409024",
        "colab": {
          "base_uri": "https://localhost:8080/",
          "height": 105
        }
      },
      "source": [
        "print(y_test)\n",
        "print()\n",
        "print(prediction)\n",
        "print()\n",
        "print(target_names)\n"
      ],
      "execution_count": 0,
      "outputs": [
        {
          "output_type": "stream",
          "text": [
            "['Jazz', 'Dance', 'Classical', 'Classical']\n",
            "\n",
            "['Jazz' 'Dance' 'Classical' 'Classical']\n",
            "\n",
            "['Jazz', 'Classical', 'Dance']\n"
          ],
          "name": "stdout"
        }
      ]
    },
    {
      "cell_type": "markdown",
      "metadata": {
        "id": "pwCHQjonAlf_",
        "colab_type": "text"
      },
      "source": [
        "## Produce report"
      ]
    },
    {
      "cell_type": "markdown",
      "metadata": {
        "id": "xd1SpADdTK67",
        "colab_type": "text"
      },
      "source": [
        "### make the report as a dictionary"
      ]
    },
    {
      "cell_type": "code",
      "metadata": {
        "id": "zyYo77zYxOoz",
        "colab_type": "code",
        "outputId": "11deca25-64d5-481e-de1f-04f214b07f2a",
        "colab": {
          "base_uri": "https://localhost:8080/",
          "height": 280
        }
      },
      "source": [
        "report = classification_report(y_true=y_test, y_pred=prediction, target_names=target_names, output_dict= True)\n",
        "print(report)\n",
        "print()\n",
        "pd.DataFrame(report).transpose()"
      ],
      "execution_count": 0,
      "outputs": [
        {
          "output_type": "stream",
          "text": [
            "{'Jazz': {'precision': 1.0, 'recall': 1.0, 'f1-score': 1.0, 'support': 2}, 'Classical': {'precision': 1.0, 'recall': 1.0, 'f1-score': 1.0, 'support': 1}, 'Dance': {'precision': 1.0, 'recall': 1.0, 'f1-score': 1.0, 'support': 1}, 'accuracy': 1.0, 'macro avg': {'precision': 1.0, 'recall': 1.0, 'f1-score': 1.0, 'support': 4}, 'weighted avg': {'precision': 1.0, 'recall': 1.0, 'f1-score': 1.0, 'support': 4}}\n",
            "\n"
          ],
          "name": "stdout"
        },
        {
          "output_type": "execute_result",
          "data": {
            "text/html": [
              "<div>\n",
              "<style scoped>\n",
              "    .dataframe tbody tr th:only-of-type {\n",
              "        vertical-align: middle;\n",
              "    }\n",
              "\n",
              "    .dataframe tbody tr th {\n",
              "        vertical-align: top;\n",
              "    }\n",
              "\n",
              "    .dataframe thead th {\n",
              "        text-align: right;\n",
              "    }\n",
              "</style>\n",
              "<table border=\"1\" class=\"dataframe\">\n",
              "  <thead>\n",
              "    <tr style=\"text-align: right;\">\n",
              "      <th></th>\n",
              "      <th>f1-score</th>\n",
              "      <th>precision</th>\n",
              "      <th>recall</th>\n",
              "      <th>support</th>\n",
              "    </tr>\n",
              "  </thead>\n",
              "  <tbody>\n",
              "    <tr>\n",
              "      <th>Jazz</th>\n",
              "      <td>1.0</td>\n",
              "      <td>1.0</td>\n",
              "      <td>1.0</td>\n",
              "      <td>2.0</td>\n",
              "    </tr>\n",
              "    <tr>\n",
              "      <th>Classical</th>\n",
              "      <td>1.0</td>\n",
              "      <td>1.0</td>\n",
              "      <td>1.0</td>\n",
              "      <td>1.0</td>\n",
              "    </tr>\n",
              "    <tr>\n",
              "      <th>Dance</th>\n",
              "      <td>1.0</td>\n",
              "      <td>1.0</td>\n",
              "      <td>1.0</td>\n",
              "      <td>1.0</td>\n",
              "    </tr>\n",
              "    <tr>\n",
              "      <th>accuracy</th>\n",
              "      <td>1.0</td>\n",
              "      <td>1.0</td>\n",
              "      <td>1.0</td>\n",
              "      <td>1.0</td>\n",
              "    </tr>\n",
              "    <tr>\n",
              "      <th>macro avg</th>\n",
              "      <td>1.0</td>\n",
              "      <td>1.0</td>\n",
              "      <td>1.0</td>\n",
              "      <td>4.0</td>\n",
              "    </tr>\n",
              "    <tr>\n",
              "      <th>weighted avg</th>\n",
              "      <td>1.0</td>\n",
              "      <td>1.0</td>\n",
              "      <td>1.0</td>\n",
              "      <td>4.0</td>\n",
              "    </tr>\n",
              "  </tbody>\n",
              "</table>\n",
              "</div>"
            ],
            "text/plain": [
              "              f1-score  precision  recall  support\n",
              "Jazz               1.0        1.0     1.0      2.0\n",
              "Classical          1.0        1.0     1.0      1.0\n",
              "Dance              1.0        1.0     1.0      1.0\n",
              "accuracy           1.0        1.0     1.0      1.0\n",
              "macro avg          1.0        1.0     1.0      4.0\n",
              "weighted avg       1.0        1.0     1.0      4.0"
            ]
          },
          "metadata": {
            "tags": []
          },
          "execution_count": 11
        }
      ]
    },
    {
      "cell_type": "markdown",
      "metadata": {
        "id": "94yjxE67TTw0",
        "colab_type": "text"
      },
      "source": [
        "### make the report as a string"
      ]
    },
    {
      "cell_type": "code",
      "metadata": {
        "id": "HU8j4KxvSFVh",
        "colab_type": "code",
        "outputId": "e013a167-f471-4450-8764-904a0db4faac",
        "colab": {
          "base_uri": "https://localhost:8080/",
          "height": 193
        }
      },
      "source": [
        "print(classification_report(y_true=y_test, y_pred=prediction, target_names=target_names))"
      ],
      "execution_count": 0,
      "outputs": [
        {
          "output_type": "stream",
          "text": [
            "              precision    recall  f1-score   support\n",
            "\n",
            "        Jazz       1.00      1.00      1.00         2\n",
            "   Classical       1.00      1.00      1.00         1\n",
            "       Dance       1.00      1.00      1.00         1\n",
            "\n",
            "    accuracy                           1.00         4\n",
            "   macro avg       1.00      1.00      1.00         4\n",
            "weighted avg       1.00      1.00      1.00         4\n",
            "\n"
          ],
          "name": "stdout"
        }
      ]
    },
    {
      "cell_type": "markdown",
      "metadata": {
        "id": "IXeZvsfABC2x",
        "colab_type": "text"
      },
      "source": [
        "\n",
        "\n",
        "resource:\n",
        "\n",
        "*   https://scikit-learn.org/stable/modules/generated/sklearn.metrics.classification_report.html\n",
        "\n",
        "\n"
      ]
    }
  ]
}